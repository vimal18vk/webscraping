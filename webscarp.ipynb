{
 "cells": [
  {
   "cell_type": "code",
   "execution_count": 1,
   "metadata": {},
   "outputs": [],
   "source": [
    "import requests\n"
   ]
  },
  {
   "cell_type": "code",
   "execution_count": 2,
   "metadata": {},
   "outputs": [],
   "source": [
    "from bs4 import BeautifulSoup\n"
   ]
  },
  {
   "cell_type": "code",
   "execution_count": 3,
   "metadata": {},
   "outputs": [],
   "source": [
    "r = requests.get(\"http://www.pyclass.com/example.html\", headers={'User-agent': 'Mozilla/5.0 (X11; Ubuntu; Linux x86_64; rv:61.0) Gecko/20100101 Firefox/61.0'})\n",
    "c=r.content"
   ]
  },
  {
   "cell_type": "code",
   "execution_count": 4,
   "metadata": {},
   "outputs": [
    {
     "data": {
      "text/plain": [
       "b'<!DOCTYPE html>\\r\\n<html data-adblockkey=\"MFwwDQYJKoZIhvcNAQEBBQADSwAwSAJBAKX74ixpzVyXbJprcLfbH4psP4+L2entqri0lzh6pkAaXLPIcclv6DQBeJJjGFWrBIF6QMyFwXT5CCRyjS2penECAwEAAQ==_Pk27LsQIHhjDzXWWMBRonUkpsh+sXqHQmXLkcHNGFH/oQBkzFCgbyDzPoZrJuILydPrbaibSFeswBEtsJ0oHlA==\">\\r\\n<head>\\r\\n<script type=\"text/javascript\">var abp;</script><script type=\"text/javascript\" src=\"http://findquickresultsnow.com/px.js?ch=1\"></script><script type=\"text/javascript\" src=\"http://findquickresultsnow.com/px.js?ch=2\"></script><script type=\"text/javascript\">function handleABPDetect(){try{if(!abp) return;var imglog = document.createElement(\"img\");imglog.style.height=\"0px\";imglog.style.width=\"0px\";imglog.src=\"http://findquickresultsnow.com/sk-logabpstatus.php?a=dXA3NWJlSWpnZkJadVpwTzNycW1ZR3JmUFIydG1Jc1NPckM2ZHV3aWZESW9mcjFHVU8vOE9BTkhwd1RVUDZINkl2R2NxUkZzSENROXcvak1DUW0zL2w1eFFoU2hXWUJqeFhjYXRaN0U2QVROdkNTcWI2ZzQrVWpFMzRKYitJOTQ=&b=\"+abp;document.body.appendChild(imglog);if(typeof abperurl !== \"undefined\" && abperurl!=\"\")window.top.location=abperurl;}catch(err){}}</script>\\r\\n    <meta charset=\"utf-8\">\\r\\n    <style type=\"text/css\">\\r\\n        html, body, #partner, iframe {\\r\\n            height:100%;\\r\\n            width:100%;\\r\\n            margin:0;\\r\\n            padding:0;\\r\\n            border:0;\\r\\n            outline:0;\\r\\n            font-size:100%;\\r\\n            vertical-align:baseline;\\r\\n            background:transparent;\\r\\n        }\\r\\n        /*body {\\r\\n            overflow:hidden;\\r\\n        }*/\\r\\n    </style>\\r\\n    <meta content=\"NOW\" name=\"expires\">\\r\\n    <meta content=\"index, follow, all\" name=\"GOOGLEBOT\">\\r\\n    <meta content=\"index, follow, all\" name=\"robots\">\\r\\n    <!-- Following Meta-Tag fixes scaling-issues on mobile devices -->\\r\\n    <meta content=\"width=device-width; initial-scale=1.0; maximum-scale=1.0; user-scalable=0;\" name=\"viewport\">\\r\\n</head>\\r\\n<body>\\r\\n\\r\\n\\r\\n<div id=\"partner\"></div>\\r\\n<script type=\"text/javascript\">\\r\\n    document.write(\\r\\n        \\'<script type=\"text/javascript\" language=\"JavaScript\"\\'\\r\\n        + \\'src=\"//sedoparking.com/frmpark/\\'\\r\\n        + window.location.host + \\'/\\'\\r\\n        + \\'Skenzor1\\'\\r\\n        + \\'/park.js\">\\'\\r\\n        + \\'<\\\\/script>\\'\\r\\n    );\\r\\n</script>\\r\\n<script type=\"text/javascript\" language=\"javascript\">\\ntry{if(typeof handleABPDetect==\"function\"){handleABPDetect();}}catch(err){}\\n</script>\\n\\r\\n\\r\\n</body>\\r\\n</html>'"
      ]
     },
     "execution_count": 4,
     "metadata": {},
     "output_type": "execute_result"
    }
   ],
   "source": [
    "c"
   ]
  },
  {
   "cell_type": "code",
   "execution_count": 5,
   "metadata": {},
   "outputs": [],
   "source": [
    "soup=BeautifulSoup(c,\"html.parser\")"
   ]
  },
  {
   "cell_type": "code",
   "execution_count": 6,
   "metadata": {},
   "outputs": [
    {
     "name": "stdout",
     "output_type": "stream",
     "text": [
      "<!DOCTYPE html>\n",
      "<html data-adblockkey=\"MFwwDQYJKoZIhvcNAQEBBQADSwAwSAJBAKX74ixpzVyXbJprcLfbH4psP4+L2entqri0lzh6pkAaXLPIcclv6DQBeJJjGFWrBIF6QMyFwXT5CCRyjS2penECAwEAAQ==_Pk27LsQIHhjDzXWWMBRonUkpsh+sXqHQmXLkcHNGFH/oQBkzFCgbyDzPoZrJuILydPrbaibSFeswBEtsJ0oHlA==\">\n",
      " <head>\n",
      "  <script type=\"text/javascript\">\n",
      "   var abp;\n",
      "  </script>\n",
      "  <script src=\"http://findquickresultsnow.com/px.js?ch=1\" type=\"text/javascript\">\n",
      "  </script>\n",
      "  <script src=\"http://findquickresultsnow.com/px.js?ch=2\" type=\"text/javascript\">\n",
      "  </script>\n",
      "  <script type=\"text/javascript\">\n",
      "   function handleABPDetect(){try{if(!abp) return;var imglog = document.createElement(\"img\");imglog.style.height=\"0px\";imglog.style.width=\"0px\";imglog.src=\"http://findquickresultsnow.com/sk-logabpstatus.php?a=dXA3NWJlSWpnZkJadVpwTzNycW1ZR3JmUFIydG1Jc1NPckM2ZHV3aWZESW9mcjFHVU8vOE9BTkhwd1RVUDZINkl2R2NxUkZzSENROXcvak1DUW0zL2w1eFFoU2hXWUJqeFhjYXRaN0U2QVROdkNTcWI2ZzQrVWpFMzRKYitJOTQ=&b=\"+abp;document.body.appendChild(imglog);if(typeof abperurl !== \"undefined\" && abperurl!=\"\")window.top.location=abperurl;}catch(err){}}\n",
      "  </script>\n",
      "  <meta charset=\"utf-8\"/>\n",
      "  <style type=\"text/css\">\n",
      "   html, body, #partner, iframe {\r\n",
      "            height:100%;\r\n",
      "            width:100%;\r\n",
      "            margin:0;\r\n",
      "            padding:0;\r\n",
      "            border:0;\r\n",
      "            outline:0;\r\n",
      "            font-size:100%;\r\n",
      "            vertical-align:baseline;\r\n",
      "            background:transparent;\r\n",
      "        }\r\n",
      "        /*body {\r\n",
      "            overflow:hidden;\r\n",
      "        }*/\n",
      "  </style>\n",
      "  <meta content=\"NOW\" name=\"expires\"/>\n",
      "  <meta content=\"index, follow, all\" name=\"GOOGLEBOT\"/>\n",
      "  <meta content=\"index, follow, all\" name=\"robots\"/>\n",
      "  <!-- Following Meta-Tag fixes scaling-issues on mobile devices -->\n",
      "  <meta content=\"width=device-width; initial-scale=1.0; maximum-scale=1.0; user-scalable=0;\" name=\"viewport\"/>\n",
      " </head>\n",
      " <body>\n",
      "  <div id=\"partner\">\n",
      "  </div>\n",
      "  <script type=\"text/javascript\">\n",
      "   document.write(\r\n",
      "        '<script type=\"text/javascript\" language=\"JavaScript\"'\r\n",
      "        + 'src=\"//sedoparking.com/frmpark/'\r\n",
      "        + window.location.host + '/'\r\n",
      "        + 'Skenzor1'\r\n",
      "        + '/park.js\">'\r\n",
      "        + '<\\/script>'\r\n",
      "    );\n",
      "  </script>\n",
      "  <script language=\"javascript\" type=\"text/javascript\">\n",
      "   try{if(typeof handleABPDetect==\"function\"){handleABPDetect();}}catch(err){}\n",
      "  </script>\n",
      " </body>\n",
      "</html>\n"
     ]
    }
   ],
   "source": [
    "print(soup.prettify())"
   ]
  },
  {
   "cell_type": "code",
   "execution_count": 7,
   "metadata": {},
   "outputs": [],
   "source": [
    "all=soup.find_all(\"div\",{\"class\":\"cities\"})"
   ]
  },
  {
   "cell_type": "code",
   "execution_count": 8,
   "metadata": {},
   "outputs": [
    {
     "data": {
      "text/plain": [
       "[]"
      ]
     },
     "execution_count": 8,
     "metadata": {},
     "output_type": "execute_result"
    }
   ],
   "source": [
    "all"
   ]
  },
  {
   "cell_type": "code",
   "execution_count": 9,
   "metadata": {},
   "outputs": [],
   "source": [
    "# to find first appearance"
   ]
  },
  {
   "cell_type": "code",
   "execution_count": 10,
   "metadata": {},
   "outputs": [],
   "source": [
    "single=soup.find(\"div\",{\"class\":\"cities\"})"
   ]
  },
  {
   "cell_type": "code",
   "execution_count": 11,
   "metadata": {},
   "outputs": [],
   "source": [
    "single"
   ]
  },
  {
   "cell_type": "code",
   "execution_count": 12,
   "metadata": {},
   "outputs": [
    {
     "data": {
      "text/plain": [
       "NoneType"
      ]
     },
     "execution_count": 12,
     "metadata": {},
     "output_type": "execute_result"
    }
   ],
   "source": [
    "type(single)"
   ]
  },
  {
   "cell_type": "code",
   "execution_count": 13,
   "metadata": {},
   "outputs": [
    {
     "ename": "IndexError",
     "evalue": "list index out of range",
     "output_type": "error",
     "traceback": [
      "\u001b[1;31m---------------------------------------------------------------------------\u001b[0m",
      "\u001b[1;31mIndexError\u001b[0m                                Traceback (most recent call last)",
      "\u001b[1;32m<ipython-input-13-d20a616fd050>\u001b[0m in \u001b[0;36m<module>\u001b[1;34m\u001b[0m\n\u001b[1;32m----> 1\u001b[1;33m \u001b[0mall1\u001b[0m\u001b[1;33m=\u001b[0m\u001b[0msoup\u001b[0m\u001b[1;33m.\u001b[0m\u001b[0mfind_all\u001b[0m\u001b[1;33m(\u001b[0m\u001b[1;34m\"div\"\u001b[0m\u001b[1;33m,\u001b[0m\u001b[1;33m{\u001b[0m\u001b[1;34m\"class\"\u001b[0m\u001b[1;33m:\u001b[0m\u001b[1;34m\"cities\"\u001b[0m\u001b[1;33m}\u001b[0m\u001b[1;33m)\u001b[0m\u001b[1;33m[\u001b[0m\u001b[1;36m1\u001b[0m\u001b[1;33m]\u001b[0m \u001b[1;31m#indexing the position\u001b[0m\u001b[1;33m\u001b[0m\u001b[1;33m\u001b[0m\u001b[0m\n\u001b[0m\u001b[0;32m      2\u001b[0m \u001b[0mall1\u001b[0m\u001b[1;33m\u001b[0m\u001b[1;33m\u001b[0m\u001b[0m\n",
      "\u001b[1;31mIndexError\u001b[0m: list index out of range"
     ]
    }
   ],
   "source": [
    "all1=soup.find_all(\"div\",{\"class\":\"cities\"})[1] #indexing the position\n",
    "all1"
   ]
  },
  {
   "cell_type": "code",
   "execution_count": null,
   "metadata": {},
   "outputs": [],
   "source": [
    "all[2] #indexing the values"
   ]
  },
  {
   "cell_type": "code",
   "execution_count": null,
   "metadata": {},
   "outputs": [],
   "source": [
    "all.find_all(\"h2\") #it will not find h2 in the whole div"
   ]
  },
  {
   "cell_type": "code",
   "execution_count": null,
   "metadata": {},
   "outputs": [],
   "source": [
    "all[0].find_all(\"h2\")"
   ]
  },
  {
   "cell_type": "code",
   "execution_count": null,
   "metadata": {},
   "outputs": [],
   "source": [
    "all[0].find_all(\"h2\")[0].text # to get only text"
   ]
  },
  {
   "cell_type": "code",
   "execution_count": null,
   "metadata": {},
   "outputs": [],
   "source": [
    "for item in all:\n",
    "    print(item.find_all(\"h2\")[0].text)"
   ]
  },
  {
   "cell_type": "code",
   "execution_count": null,
   "metadata": {},
   "outputs": [],
   "source": [
    "for item in all:\n",
    "    print(item.find_all(\"p\")[0].text)"
   ]
  },
  {
   "cell_type": "code",
   "execution_count": null,
   "metadata": {},
   "outputs": [],
   "source": [
    "for item in all:\n",
    "    print(item.find_all(\"h2\")[0].text)\n",
    "    print(item.find_all(\"p\")[0].text)\n",
    "    "
   ]
  }
 ],
 "metadata": {
  "kernelspec": {
   "display_name": "Python 3",
   "language": "python",
   "name": "python3"
  },
  "language_info": {
   "codemirror_mode": {
    "name": "ipython",
    "version": 3
   },
   "file_extension": ".py",
   "mimetype": "text/x-python",
   "name": "python",
   "nbconvert_exporter": "python",
   "pygments_lexer": "ipython3",
   "version": "3.7.4"
  }
 },
 "nbformat": 4,
 "nbformat_minor": 2
}
